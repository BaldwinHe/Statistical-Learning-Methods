{
 "cells": [
  {
   "cell_type": "code",
   "execution_count": 1,
   "metadata": {},
   "outputs": [],
   "source": [
    "import numpy as np"
   ]
  },
  {
   "cell_type": "code",
   "execution_count": 2,
   "metadata": {},
   "outputs": [],
   "source": [
    "def distance(x, y, p):\n",
    "    x = np.array(x)\n",
    "    y = np.array(y)\n",
    "    return np.power(np.sum(np.power(np.fabs(x - y), p)), 1.0/p)"
   ]
  },
  {
   "cell_type": "code",
   "execution_count": 16,
   "outputs": [],
   "source": [
    "class KDTree:\n",
    "    def __init__(self, data, depth = None):\n",
    "        self.data = data\n",
    "        if(len(data) == 0):\n",
    "            return None\n",
    "\n",
    "        try:\n",
    "            self.K = data.shape[1]\n",
    "        except:\n",
    "            self.root_value = data\n",
    "            self.left = None\n",
    "            self.right = None\n",
    "            return self\n",
    "\n",
    "        self.N = data.shape[0]\n",
    "        self.root_value = None\n",
    "        self.left = None\n",
    "        self.right = None\n",
    "        if (depth is None):\n",
    "            self.depth = 1\n",
    "            split_axis = 0\n",
    "        else:\n",
    "            self.depth = depth\n",
    "            split_axis = depth % self.K\n",
    "        self.child(self.data, split_axis)\n",
    "\n",
    "    def child(self, data, split_axis):\n",
    "        if self.N == 1:\n",
    "            self.root_value = data[0]\n",
    "            return\n",
    "\n",
    "        median = np.median(data[:, split_axis], axis=0)\n",
    "\n",
    "        left_index = np.where(median > data[:, split_axis])[0]\n",
    "        right_index = np.where(median < data[:, split_axis])[0]\n",
    "        mid_index = np.where(median == data[:, split_axis])[0]\n",
    "        if mid_index.size == 0:\n",
    "            left_max = np.argmax(data[left_index, split_axis])\n",
    "            right_min = np.argmin(data[right_index, split_axis])\n",
    "\n",
    "            if left_index.size == 0 and right_index.size == 0:\n",
    "                pass\n",
    "            elif left_index.size == 0:\n",
    "                self.root_value = data[right_index][right_min, :]\n",
    "                data_right = np.delete(data[right_index, :], right_min, axis=0)\n",
    "                if len(data_right):\n",
    "                    self.right = KDTree(data_right, self.depth + 1)\n",
    "            elif right_index.size == 0:\n",
    "                self.root_value = data[left_index][left_max, :]\n",
    "                data_left = np.delete(data[left_index, :], left_max, axis=0)\n",
    "                if len(data_left):\n",
    "                    self.left = KDTree(data_left, self.depth + 1)\n",
    "            else:\n",
    "                if median - data[left_max, split_axis] \\\n",
    "                        >  data[right_min, split_axis] - median :\n",
    "                    self.root_value = data[left_index][left_max, :]\n",
    "                    data_left = np.delete(data[left_index, :], left_max, axis=0)\n",
    "                    if len(data_left):\n",
    "                        self.left = KDTree(data_left, self.depth + 1)\n",
    "                    if right_index.size != 0:\n",
    "                        self.right = KDTree(data[right_index, :], self.depth + 1)\n",
    "                else:\n",
    "                    self.root_value = data[right_index][right_min, :]\n",
    "                    data_right = np.delete(data[right_index, :], right_min, axis=0)\n",
    "                    if len(data_right):\n",
    "                        self.right = KDTree(data_right, self.depth + 1)\n",
    "                    if left_index.size != 0:\n",
    "                        self.left = KDTree(data[left_index, :], self.depth + 1)\n",
    "        else:\n",
    "            self.root_value = data[mid_index[0], :]\n",
    "            if left_index.size != 0:\n",
    "                self.left = KDTree(data[left_index, :], self.depth + 1)\n",
    "            if right_index.size != 0:\n",
    "                self.right = KDTree(data[right_index, :], self.depth + 1)\n"
   ],
   "metadata": {
    "collapsed": false,
    "pycharm": {
     "name": "#%%\n"
    }
   }
  },
  {
   "cell_type": "code",
   "execution_count": 17,
   "outputs": [
    {
     "name": "stdout",
     "output_type": "stream",
     "text": [
      "[7 2]\n",
      "[4 7]\n",
      "[2 3]\n",
      "[5 4]\n",
      "[9 6]\n",
      "[8 1]\n"
     ]
    }
   ],
   "source": [
    "data = np.array([[2, 3], [5, 4], [9, 6],\n",
    "                 [4, 7], [8, 1], [7, 2]])\n",
    "kdtree = KDTree(data)\n",
    "def inorder(node):\n",
    "    print(node.root_value)\n",
    "    if(node.left is not None):\n",
    "        inorder(node.left)\n",
    "    if(node.right is not None):\n",
    "        inorder(node.right)\n",
    "inorder(kdtree)"
   ],
   "metadata": {
    "collapsed": false,
    "pycharm": {
     "name": "#%%\n"
    }
   }
  },
  {
   "cell_type": "code",
   "execution_count": 16,
   "outputs": [
    {
     "data": {
      "text/plain": "array([1, 4])"
     },
     "execution_count": 16,
     "metadata": {},
     "output_type": "execute_result"
    }
   ],
   "source": [
    "data[:, 0]"
   ],
   "metadata": {
    "collapsed": false,
    "pycharm": {
     "name": "#%%\n"
    }
   }
  },
  {
   "cell_type": "code",
   "execution_count": null,
   "outputs": [],
   "source": [
    "\n",
    "1, 2, 3, 4, 6, 7"
   ],
   "metadata": {
    "collapsed": false,
    "pycharm": {
     "name": "#%%\n"
    }
   }
  },
  {
   "cell_type": "code",
   "execution_count": 18,
   "metadata": {},
   "outputs": [
    {
     "data": {
      "text/plain": [
       "4.242640687119285"
      ]
     },
     "execution_count": 18,
     "metadata": {},
     "output_type": "execute_result"
    }
   ],
   "source": []
  },
  {
   "cell_type": "code",
   "execution_count": null,
   "metadata": {},
   "outputs": [],
   "source": []
  }
 ],
 "metadata": {
  "kernelspec": {
   "display_name": "Python 3",
   "language": "python",
   "name": "python3"
  },
  "language_info": {
   "codemirror_mode": {
    "name": "ipython",
    "version": 3
   },
   "file_extension": ".py",
   "mimetype": "text/x-python",
   "name": "python",
   "nbconvert_exporter": "python",
   "pygments_lexer": "ipython3",
   "version": "3.8.3"
  }
 },
 "nbformat": 4,
 "nbformat_minor": 4
}